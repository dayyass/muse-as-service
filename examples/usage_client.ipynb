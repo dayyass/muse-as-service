{
 "cells": [
  {
   "cell_type": "code",
   "execution_count": 1,
   "id": "c08b98d3",
   "metadata": {},
   "outputs": [],
   "source": [
    "import sys\n",
    "sys.path.append(\"..\")\n",
    "\n",
    "from muse_as_service import MUSEClient"
   ]
  },
  {
   "cell_type": "code",
   "execution_count": 2,
   "id": "fb8d0c4f",
   "metadata": {},
   "outputs": [],
   "source": [
    "ip = \"localhost\"\n",
    "port = 5000\n",
    "token = \"TOKEN\""
   ]
  },
  {
   "cell_type": "code",
   "execution_count": 3,
   "id": "e1a62bed",
   "metadata": {},
   "outputs": [],
   "source": [
    "sentence = \"This is sentence example.\""
   ]
  },
  {
   "cell_type": "code",
   "execution_count": 4,
   "id": "0d95e3ce",
   "metadata": {},
   "outputs": [],
   "source": [
    "# init client\n",
    "client = MUSEClient(\n",
    "    ip=ip,\n",
    "    port=port,\n",
    "    token=token,\n",
    ")"
   ]
  },
  {
   "cell_type": "code",
   "execution_count": 5,
   "id": "223249d0",
   "metadata": {},
   "outputs": [],
   "source": [
    "# tokenizer\n",
    "tokenized_sentence = client.tokenize(sentence)"
   ]
  },
  {
   "cell_type": "code",
   "execution_count": 6,
   "id": "34fc27ce",
   "metadata": {},
   "outputs": [
    {
     "data": {
      "text/plain": [
       "['▁This', '▁is', '▁sentence', '▁example', '.']"
      ]
     },
     "execution_count": 6,
     "metadata": {},
     "output_type": "execute_result"
    }
   ],
   "source": [
    "tokenized_sentence"
   ]
  },
  {
   "cell_type": "code",
   "execution_count": 7,
   "id": "d0a01a1e",
   "metadata": {},
   "outputs": [],
   "source": [
    "# embedder\n",
    "embedding = client.embed(sentence)"
   ]
  },
  {
   "cell_type": "code",
   "execution_count": 8,
   "id": "04699513",
   "metadata": {},
   "outputs": [
    {
     "data": {
      "text/plain": [
       "(512,)"
      ]
     },
     "execution_count": 8,
     "metadata": {},
     "output_type": "execute_result"
    }
   ],
   "source": [
    "embedding.shape"
   ]
  },
  {
   "cell_type": "code",
   "execution_count": null,
   "id": "44ed4faf",
   "metadata": {},
   "outputs": [],
   "source": []
  }
 ],
 "metadata": {
  "kernelspec": {
   "display_name": "Python 3",
   "language": "python",
   "name": "python3"
  },
  "language_info": {
   "codemirror_mode": {
    "name": "ipython",
    "version": 3
   },
   "file_extension": ".py",
   "mimetype": "text/x-python",
   "name": "python",
   "nbconvert_exporter": "python",
   "pygments_lexer": "ipython3",
   "version": "3.9.5"
  }
 },
 "nbformat": 4,
 "nbformat_minor": 5
}
