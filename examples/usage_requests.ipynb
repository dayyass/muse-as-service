{
 "cells": [
  {
   "cell_type": "code",
   "execution_count": 1,
   "id": "edcc27c1",
   "metadata": {},
   "outputs": [],
   "source": [
    "import numpy as np\n",
    "import requests"
   ]
  },
  {
   "cell_type": "code",
   "execution_count": 2,
   "id": "7c338cb5",
   "metadata": {},
   "outputs": [],
   "source": [
    "ip = \"localhost\"\n",
    "port = 5000\n",
    "token = \"TOKEN\""
   ]
  },
  {
   "cell_type": "code",
   "execution_count": 3,
   "id": "79f2a2ee",
   "metadata": {},
   "outputs": [],
   "source": [
    "url_service = f\"http://{ip}:{port}\"\n",
    "url_tokenize = f\"{url_service}/tokenize\"\n",
    "url_embed = f\"{url_service}/embed\""
   ]
  },
  {
   "cell_type": "code",
   "execution_count": 4,
   "id": "9bb6f31b",
   "metadata": {},
   "outputs": [],
   "source": [
    "sentence = \"This is sentence example.\""
   ]
  },
  {
   "cell_type": "code",
   "execution_count": 5,
   "id": "13e0a643",
   "metadata": {},
   "outputs": [],
   "source": [
    "# tokenizer\n",
    "response = requests.get(\n",
    "    url=url_tokenize,\n",
    "    params={\"token\": token, \"sentence\": sentence},\n",
    ")\n",
    "\n",
    "tokenized_sentence = response.json()[\"tokens\"]"
   ]
  },
  {
   "cell_type": "code",
   "execution_count": 6,
   "id": "6363802f",
   "metadata": {},
   "outputs": [
    {
     "data": {
      "text/plain": [
       "['▁This', '▁is', '▁sentence', '▁example', '.']"
      ]
     },
     "execution_count": 6,
     "metadata": {},
     "output_type": "execute_result"
    }
   ],
   "source": [
    "tokenized_sentence"
   ]
  },
  {
   "cell_type": "code",
   "execution_count": 7,
   "id": "e735d226",
   "metadata": {},
   "outputs": [],
   "source": [
    "# embedder\n",
    "response = requests.get(\n",
    "    url=url_embed,\n",
    "    params={\"token\": token, \"sentence\": sentence},\n",
    ")\n",
    "\n",
    "embedding = np.array(response.json()[\"embedding\"][0])"
   ]
  },
  {
   "cell_type": "code",
   "execution_count": 8,
   "id": "2ddb6bfb",
   "metadata": {},
   "outputs": [
    {
     "data": {
      "text/plain": [
       "(512,)"
      ]
     },
     "execution_count": 8,
     "metadata": {},
     "output_type": "execute_result"
    }
   ],
   "source": [
    "embedding.shape"
   ]
  },
  {
   "cell_type": "code",
   "execution_count": null,
   "id": "41d1ec82",
   "metadata": {},
   "outputs": [],
   "source": []
  }
 ],
 "metadata": {
  "kernelspec": {
   "display_name": "Python 3",
   "language": "python",
   "name": "python3"
  },
  "language_info": {
   "codemirror_mode": {
    "name": "ipython",
    "version": 3
   },
   "file_extension": ".py",
   "mimetype": "text/x-python",
   "name": "python",
   "nbconvert_exporter": "python",
   "pygments_lexer": "ipython3",
   "version": "3.9.5"
  }
 },
 "nbformat": 4,
 "nbformat_minor": 5
}
